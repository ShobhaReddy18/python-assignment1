{
  "nbformat": 4,
  "nbformat_minor": 0,
  "metadata": {
    "colab": {
      "provenance": []
    },
    "kernelspec": {
      "name": "python3",
      "display_name": "Python 3"
    },
    "language_info": {
      "name": "python"
    }
  },
  "cells": [
    {
      "cell_type": "markdown",
      "source": [
        "## Strings Assignment 2"
      ],
      "metadata": {
        "id": "EPGLodluvWuN"
      }
    },
    {
      "cell_type": "markdown",
      "source": [
        "1.Write a Python program to reverse a string.\n",
        "\n",
        "input : hellohowareyoudoingandhowisyourhealth"
      ],
      "metadata": {
        "id": "ddM5gMtivkoi"
      }
    },
    {
      "cell_type": "code",
      "source": [
        "# write your code here\n",
        "def reverse_string(s):\n",
        "  return s[::-1]\n",
        "\n",
        "input_string = \"hellohowareyoudoingandhowisyourhealth\"\n",
        "reversed_string = reverse_string(input_string)\n",
        "print(reversed_string)"
      ],
      "metadata": {
        "id": "RnP576ZZvtLH",
        "colab": {
          "base_uri": "https://localhost:8080/"
        },
        "outputId": "65456cfd-64ca-491b-93f7-39aa7f951de1"
      },
      "execution_count": 1,
      "outputs": [
        {
          "output_type": "stream",
          "name": "stdout",
          "text": [
            "htlaehruoysiwohdnagnioduoyerawoholleh\n"
          ]
        }
      ]
    },
    {
      "cell_type": "markdown",
      "source": [
        "2.Write a Python program to capitalize the first letter of each word in a sentence.\n",
        "\n",
        "input : hello welcome to internship"
      ],
      "metadata": {
        "id": "jEVFoo3evnhr"
      }
    },
    {
      "cell_type": "code",
      "source": [
        "# write your code here\n",
        "def capitalize_sentence(sentence):\n",
        "  return sentence.title()\n",
        "\n",
        "input_sentence = \"hello welcome to internship\"\n",
        "capitalized_sentence = capitalize_sentence(input_sentence)\n",
        "print(capitalized_sentence)"
      ],
      "metadata": {
        "id": "CTP3QwiGwT93",
        "colab": {
          "base_uri": "https://localhost:8080/"
        },
        "outputId": "f02866b4-40e0-4117-915b-d1952bddf696"
      },
      "execution_count": 2,
      "outputs": [
        {
          "output_type": "stream",
          "name": "stdout",
          "text": [
            "Hello Welcome To Internship\n"
          ]
        }
      ]
    },
    {
      "cell_type": "markdown",
      "source": [
        "3.Write a Python program to find the longest word in a sentence.\n",
        "\n",
        "input : \"he is very good at painting and paint good sketches\""
      ],
      "metadata": {
        "id": "LiGvyCoVvnyC"
      }
    },
    {
      "cell_type": "code",
      "source": [
        "# write your code here\n",
        "def find_longest_word(sentence):\n",
        "  words = sentence.split()\n",
        "  longest_word = max(words, key=len)\n",
        "  return longest_word\n",
        "\n",
        "input_sentence = \"he is very good at painting and paint good sketches\"\n",
        "longest_word = find_longest_word(input_sentence)\n",
        "print(longest_word)"
      ],
      "metadata": {
        "id": "clATuC3cwwPI",
        "colab": {
          "base_uri": "https://localhost:8080/"
        },
        "outputId": "3fc1db04-8361-4a0f-939c-a4970d84beb3"
      },
      "execution_count": 3,
      "outputs": [
        {
          "output_type": "stream",
          "name": "stdout",
          "text": [
            "painting\n"
          ]
        }
      ]
    },
    {
      "cell_type": "markdown",
      "source": [
        "4.Write a Python program to find the length of the last word in a sentence.\n",
        "\n",
        "input : this is the most beautiful beach I ever visited"
      ],
      "metadata": {
        "id": "-QhCplQjvn0w"
      }
    },
    {
      "cell_type": "code",
      "source": [
        "# write your code here\n",
        "def find_length_of_last_word(sentence):\n",
        "  words = sentence.split()\n",
        "  if words:  # Check if the sentence is not empty\n",
        "    last_word = words[-1]\n",
        "    return len(last_word)\n",
        "  else:\n",
        "    return 0  # Return 0 if the sentence is empty\n",
        "\n",
        "input_sentence = \"this is the most beautiful beach I ever visited\"\n",
        "length_of_last_word = find_length_of_last_word(input_sentence)\n",
        "print(length_of_last_word)"
      ],
      "metadata": {
        "id": "QwzbahlkxGZ-",
        "colab": {
          "base_uri": "https://localhost:8080/"
        },
        "outputId": "26b3efa3-03aa-4452-8f9d-0f1f3d8bae13"
      },
      "execution_count": 4,
      "outputs": [
        {
          "output_type": "stream",
          "name": "stdout",
          "text": [
            "7\n"
          ]
        }
      ]
    },
    {
      "cell_type": "markdown",
      "source": [
        "5.Write a Python program to find the second most frequent character in a string.\n",
        "\n",
        "input: the hospital is very big and this hospital has so many doctors"
      ],
      "metadata": {
        "id": "cZiXxZhsvn6q"
      }
    },
    {
      "cell_type": "code",
      "source": [
        "# write your code here\n",
        "from collections import Counter\n",
        "\n",
        "def find_second_most_frequent_char(text):\n",
        "  # Count the frequency of each character\n",
        "  char_counts = Counter(text)\n",
        "\n",
        "  # Remove spaces and find the most and second most frequent characters\n",
        "  most_common = char_counts.most_common()\n",
        "\n",
        "  # Removing the space\n",
        "  for item in most_common:\n",
        "    if item[0] == ' ':\n",
        "      most_common.remove(item)\n",
        "      break\n",
        "  # Return the second most frequent character\n",
        "  if len(most_common) >= 2 :\n",
        "    return most_common[1][0]\n",
        "  else:\n",
        "    return \"There is no second most frequent character\"\n",
        "\n",
        "# Input string\n",
        "input_string = \"the hospital is very big and this hospital has so many doctors\"\n",
        "\n",
        "# Find and print the second most frequent character\n",
        "second_most_frequent = find_second_most_frequent_char(input_string)\n",
        "print(f\"The second most frequent character is: {second_most_frequent}\")"
      ],
      "metadata": {
        "id": "EnHquuoCxi7F",
        "colab": {
          "base_uri": "https://localhost:8080/"
        },
        "outputId": "4224f243-a529-4913-da21-2f78ffb5986e"
      },
      "execution_count": 5,
      "outputs": [
        {
          "output_type": "stream",
          "name": "stdout",
          "text": [
            "The second most frequent character is: t\n"
          ]
        }
      ]
    }
  ]
}