{
  "nbformat": 4,
  "nbformat_minor": 0,
  "metadata": {
    "colab": {
      "provenance": []
    },
    "kernelspec": {
      "name": "python3",
      "display_name": "Python 3"
    },
    "language_info": {
      "name": "python"
    }
  },
  "cells": [
    {
      "cell_type": "markdown",
      "source": [
        "1.Write a Python program to count the number of vowels in a string.\n",
        "\n",
        "input : hasdfgeuionhjl"
      ],
      "metadata": {
        "id": "q8RkYTES1QUW"
      }
    },
    {
      "cell_type": "code",
      "source": [
        "# write your code here\n",
        "def count_vowels(string):\n",
        "  \"\"\"Counts the number of vowels in a string.\n",
        "\n",
        "  Args:\n",
        "    string: The string to count the vowels in.\n",
        "\n",
        "  Returns:\n",
        "    The number of vowels in the string.\n",
        "  \"\"\"\n",
        "\n",
        "  vowels = \"aeiou\"\n",
        "  count = 0\n",
        "  for char in string.lower():\n",
        "    if char in vowels:\n",
        "      count += 1\n",
        "  return count\n",
        "\n",
        "\n",
        "# Get the input string from the user.\n",
        "string = \"hasdfgeuionhjl\"\n",
        "\n",
        "# Count the number of vowels in the string.\n",
        "num_vowels = count_vowels(string)\n",
        "\n",
        "# Print the number of vowels.\n",
        "print(\"The number of vowels in the string is:\", num_vowels)"
      ],
      "metadata": {
        "id": "UHi6ezjV1X0s",
        "colab": {
          "base_uri": "https://localhost:8080/"
        },
        "outputId": "0ccdb952-4475-46f9-973d-f2ba59c8bd38"
      },
      "execution_count": 1,
      "outputs": [
        {
          "output_type": "stream",
          "name": "stdout",
          "text": [
            "The number of vowels in the string is: 5\n"
          ]
        }
      ]
    },
    {
      "cell_type": "markdown",
      "source": [
        "2.Write a Python program to count the occurrences of each word in a sentence.\n",
        "\n",
        "input : hi hello hi and and hi more and more programming"
      ],
      "metadata": {
        "id": "v7GBEK161QWy"
      }
    },
    {
      "cell_type": "code",
      "source": [
        "# write your code here\n",
        "import collections\n",
        "\n",
        "def count_word_occurrences(sentence):\n",
        "  \"\"\"Counts the occurrences of each word in a sentence.\n",
        "\n",
        "  Args:\n",
        "    sentence: The sentence to count the word occurrences in.\n",
        "\n",
        "  Returns:\n",
        "    A dictionary where the keys are the words and the values are the\n",
        "    number of times each word appears in the sentence.\n",
        "  \"\"\"\n",
        "\n",
        "  # Split the sentence into words.\n",
        "  words = sentence.lower().split()\n",
        "\n",
        "  # Use collections.Counter to count the occurrences of each word.\n",
        "  word_counts = collections.Counter(words)\n",
        "\n",
        "  return word_counts\n",
        "\n",
        "\n",
        "# Get the input sentence from the user.\n",
        "sentence = \"hi hello hi and and hi more and more programming\"\n",
        "\n",
        "# Count the occurrences of each word in the sentence.\n",
        "word_occurrences = count_word_occurrences(sentence)\n",
        "\n",
        "# Print the word occurrences.\n",
        "for word, count in word_occurrences.items():\n",
        "  print(f\"{word}: {count}\")"
      ],
      "metadata": {
        "id": "R-UzDybK1uZo",
        "colab": {
          "base_uri": "https://localhost:8080/"
        },
        "outputId": "05e38deb-705f-4e0b-fcf8-9812c9a2119b"
      },
      "execution_count": 2,
      "outputs": [
        {
          "output_type": "stream",
          "name": "stdout",
          "text": [
            "hi: 3\n",
            "hello: 1\n",
            "and: 3\n",
            "more: 2\n",
            "programming: 1\n"
          ]
        }
      ]
    },
    {
      "cell_type": "markdown",
      "source": [
        "3.In python how can you differentiate strings and lists. Give atleast 5 different comparisons between them."
      ],
      "metadata": {
        "id": "evCcw-0H1QY9"
      }
    },
    {
      "cell_type": "markdown",
      "source": [
        "Answer: Mutability: Strings cannot be changed after creation, while lists can.\n",
        "\n",
        "Data Type: Strings store characters, while lists can store any data type.\n",
        "\n",
        "Syntax: Strings use quotes, while lists use square brackets.\n",
        "\n",
        "Element Access: Both use index to access elements.\n",
        "Operations: Each has specific methods for manipulation."
      ],
      "metadata": {
        "id": "OfiTI0pv1QbU"
      }
    },
    {
      "cell_type": "markdown",
      "source": [
        "4.Write a string for your own of approximately 40 in length and perform any 5 different string operations on that."
      ],
      "metadata": {
        "id": "riR1PWxG1Qdq"
      }
    },
    {
      "cell_type": "code",
      "source": [
        "#Write your code here\n",
        "my_string = \"Hello, world! This is a test string.\"\n",
        "length = len(my_string)\n",
        "print(f\"Length of the string: {length}\")\n",
        "uppercase_string = my_string.upper()\n",
        "print(f\"Uppercase string: {uppercase_string}\")\n",
        "lowercase_string = my_string.lower()\n",
        "print(f\"Lowercase string: {lowercase_string}\")\n",
        "substring = my_string[7:12]\n",
        "print(f\"Substring: {substring}\")\n",
        "replaced_string = my_string.replace(\"world\", \"Python\")\n",
        "print(f\"Replaced string: {replaced_string}\")\n"
      ],
      "metadata": {
        "id": "3bHyrDS12e8i",
        "colab": {
          "base_uri": "https://localhost:8080/"
        },
        "outputId": "d5216493-ee55-4bab-fc05-bbc9eb0c0312"
      },
      "execution_count": 3,
      "outputs": [
        {
          "output_type": "stream",
          "name": "stdout",
          "text": [
            "Length of the string: 36\n",
            "Uppercase string: HELLO, WORLD! THIS IS A TEST STRING.\n",
            "Lowercase string: hello, world! this is a test string.\n",
            "Substring: world\n",
            "Replaced string: Hello, Python! This is a test string.\n"
          ]
        }
      ]
    },
    {
      "cell_type": "markdown",
      "source": [
        "5.Explain the concatination in strings with a neat example."
      ],
      "metadata": {
        "id": "bbUm7VVN1Qfu"
      }
    },
    {
      "cell_type": "code",
      "source": [
        "#write your code and explanation here\n",
        "string1 = \"Hello\"\n",
        "string2 = \"World\"\n",
        "\n",
        "# Concatenate the strings\n",
        "concatenated_string = string1 + \" \" + string2\n",
        "\n",
        "# Print the result\n",
        "print(concatenated_string)  # Output: Hello World"
      ],
      "metadata": {
        "id": "y9292Q452tF0",
        "colab": {
          "base_uri": "https://localhost:8080/"
        },
        "outputId": "eb7bffd8-362d-4e45-8f0c-ec7bd2dd0a03"
      },
      "execution_count": 4,
      "outputs": [
        {
          "output_type": "stream",
          "name": "stdout",
          "text": [
            "Hello World\n"
          ]
        }
      ]
    },
    {
      "cell_type": "code",
      "source": [],
      "metadata": {
        "id": "vnMNtJgq2xuG"
      },
      "execution_count": null,
      "outputs": []
    }
  ]
}